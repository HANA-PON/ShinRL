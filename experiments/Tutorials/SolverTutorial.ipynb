{
 "cells": [
  {
   "cell_type": "code",
   "execution_count": 18,
   "id": "8d38be0d",
   "metadata": {},
   "outputs": [],
   "source": [
    "import chex\n",
    "import shinrl\n",
    "import gym\n",
    "import jax.numpy as jnp\n",
    "import distrax\n",
    "import jax\n",
    "from copy import deepcopy"
   ]
  },
  {
   "cell_type": "markdown",
   "id": "f91ad663",
   "metadata": {},
   "source": [
    "# Create custom Solver\n",
    "\n",
    "This tutorial demonstrates how to create a custom solver.\n",
    "We are going to implement a very simple solver that tries to maximize the one-step reward.\n",
    "\n",
    "You need to implement two classes, \n",
    "1. a config class inheriting `shinrl.SolverConfig` and \n",
    "2. a solver class inheriting `shinrl.BaseSolver`."
   ]
  },
  {
   "cell_type": "markdown",
   "id": "62dd3433",
   "metadata": {},
   "source": [
    "## 1. Config\n",
    "\n",
    "The config class is a dataclass inheriting `shinrl.SolverConfig`.\n",
    "It holds hyperparameters of a solver."
   ]
  },
  {
   "cell_type": "code",
   "execution_count": 31,
   "id": "6a2b6d89",
   "metadata": {},
   "outputs": [],
   "source": [
    "@chex.dataclass\n",
    "class ExampleConfig(shinrl.SolverConfig):\n",
    "    seed: int = 0\n",
    "    discount: float = 0.99\n",
    "    eval_trials: int = 10\n",
    "    eval_interval: int = 100\n",
    "    add_interval: int = 100\n",
    "    steps_per_epoch: int = 1000"
   ]
  },
  {
   "cell_type": "markdown",
   "id": "b20550f8",
   "metadata": {},
   "source": [
    "## 2. Solver\n",
    "\n",
    "The main solver class must inherit `shinrl.BaseSolver`.\n",
    "You need to implement three functions (See details in [shinrl/solvers/base/solver.py](../shinrl/solvers/base/solver.py)):\n",
    "\n",
    "* **make_mixins** (staticmethod): Make a list of mixins from env and config. A solver is instantiated by mixing generated mixins.\n",
    "* **evaluate** (function): Evaluate the solver and return the dict of results. Called every self.config.eval_interval steps.\n",
    "* **step** (function): Execute the solver by one step and return the dict of results.\n",
    "\n",
    "The following code implements `evaluate` and `step` functions through mixins:"
   ]
  },
  {
   "cell_type": "code",
   "execution_count": 36,
   "id": "93949a26",
   "metadata": {},
   "outputs": [],
   "source": [
    "\n",
    "class ExampleStepMixIn:\n",
    "    def initialize(self, env, config=None) -> None:\n",
    "        super().initialize(env, config)\n",
    "        \n",
    "        dA = self.env.action_space.n\n",
    "        policy = jnp.ones(dA)\n",
    "        policy = policy / policy.sum()\n",
    "        \n",
    "        # Any jittable object (e.g., network parameters, Q-table, etc.)\n",
    "        # should be stored in this `solver.data` dictionary\n",
    "        self.data[\"Policy\"] = policy\n",
    "\n",
    "    def step(self):\n",
    "        policy = self.data[\"Policy\"]\n",
    "        dist = distrax.Greedy(policy)\n",
    "        act = dist.sample(seed=self.key).item()\n",
    "        self.env.obs, rew, done, _ = self.env.step(act)\n",
    "        \n",
    "        # Update policy\n",
    "        policy = policy.at[act].add(rew)\n",
    "        self.data[\"Policy\"] = policy / policy.sum()\n",
    "        \n",
    "        # Return any scalar data you want to record\n",
    "        return {\"Rew\": rew}\n",
    "\n",
    "    \n",
    "class ExampleEvalMixIn:\n",
    "    def initialize(self, env, config=None) -> None:\n",
    "        super().initialize(env, config)\n",
    "        self._eval_env = deepcopy(self.env)\n",
    "\n",
    "    def evaluate(self):\n",
    "        self._eval_env.reset()\n",
    "        \n",
    "        policy = self.data[\"Policy\"]\n",
    "        dist = distrax.Greedy(policy)\n",
    "        ret = 0\n",
    "        done = False\n",
    "        while not done:\n",
    "            act = dist.sample(seed=self.key).item()       \n",
    "            self._eval_env.obs, rew, done, _ = self._eval_env.step(act)\n",
    "            ret += rew\n",
    "            \n",
    "        # Return any scalar data you want to record\n",
    "        return {\"Return\": ret}\n",
    "\n",
    "\n",
    "class ExampleSolver(shinrl.BaseSolver):\n",
    "    DefaultConfig = ExampleConfig\n",
    "    @staticmethod\n",
    "    def make_mixins(env, config):\n",
    "        return [ExampleStepMixIn, ExampleEvalMixIn, ExampleSolver]"
   ]
  },
  {
   "cell_type": "code",
   "execution_count": 37,
   "id": "602eff5b",
   "metadata": {},
   "outputs": [
    {
     "name": "stderr",
     "output_type": "stream",
     "text": [
      "\u001b[2m2021-12-27T04:12:19.974884Z\u001b[0m \u001b[1mset_config is called.         \u001b[0m \u001b[36mconfig\u001b[0m=\u001b[35m{'seed': 0, 'discount': 0.99, 'eval_trials': 10, 'eval_interval': 10, 'add_interval': 5, 'steps_per_epoch': 20}\u001b[0m \u001b[36menv_id\u001b[0m=\u001b[35mNone\u001b[0m \u001b[36msolver_id\u001b[0m=\u001b[35mMixedSolver-11\u001b[0m\n",
      "\u001b[2m2021-12-27T04:12:19.978362Z\u001b[0m \u001b[1mset_env is called.            \u001b[0m \u001b[36menv_id\u001b[0m=\u001b[35m0\u001b[0m \u001b[36msolver_id\u001b[0m=\u001b[35mMixedSolver-11\u001b[0m\n",
      "\u001b[2m2021-12-27T04:12:19.983226Z\u001b[0m \u001b[1mSolver is initialized.        \u001b[0m \u001b[36menv_id\u001b[0m=\u001b[35m0\u001b[0m \u001b[36mmethods\u001b[0m=\u001b[35m['BaseSolver.__init__', 'History.add_scalar', 'ExampleEvalMixIn.evaluate', 'History.init_history', 'ExampleStepMixIn.initialize', 'History.load', 'History.recent_summary', 'BaseSolver.run', 'History.save', 'BaseSolver.seed', 'History.set_config', 'BaseSolver.set_env', 'ExampleStepMixIn.step']\u001b[0m \u001b[36mmixins\u001b[0m=\u001b[35m[<class '__main__.ExampleStepMixIn'>, <class '__main__.ExampleEvalMixIn'>, <class '__main__.ExampleSolver'>]\u001b[0m \u001b[36msolver_id\u001b[0m=\u001b[35mMixedSolver-11\u001b[0m\n",
      "Epoch 0: 100%|█\n",
      "\u001b[2m2021-12-27T04:12:20.021477Z\u001b[0m \u001b[1mEpoch 1 has ended.            \u001b[0m \u001b[36mdata\u001b[0m=\u001b[35m['Policy']\u001b[0m \u001b[36menv_id\u001b[0m=\u001b[35m0\u001b[0m \u001b[36mepoch_summary\u001b[0m=\u001b[35m{'Return': {'Average': 9.5, 'Max': 10.0, 'Min': 9.0}, 'Rew': {'Average': 0.5, 'Max': 1.0, 'Min': 0.0}}\u001b[0m \u001b[36msolver_id\u001b[0m=\u001b[35mMixedSolver-11\u001b[0m\n"
     ]
    }
   ],
   "source": [
    "env = gym.make(\"CartPole-v0\")\n",
    "config = ExampleSolver.DefaultConfig(add_interval=5, steps_per_epoch=20, eval_interval=10)\n",
    "mixins = ExampleSolver.make_mixins(env, config)\n",
    "solver = ExampleSolver.factory(env, config, mixins)\n",
    "solver.run()"
   ]
  },
  {
   "cell_type": "code",
   "execution_count": 38,
   "id": "fd51e721",
   "metadata": {},
   "outputs": [
    {
     "data": {
      "text/plain": [
       "DeviceArray([4.8828125e-04, 9.9951172e-01], dtype=float32)"
      ]
     },
     "execution_count": 38,
     "metadata": {},
     "output_type": "execute_result"
    }
   ],
   "source": [
    "solver.data[\"Policy\"]"
   ]
  },
  {
   "cell_type": "markdown",
   "id": "ec4619b0",
   "metadata": {},
   "source": [
    "### solver.scalars\n",
    "\n",
    "The results from `step` and `evaluate` functions are stored in solver.scalars:"
   ]
  },
  {
   "cell_type": "code",
   "execution_count": 39,
   "id": "6f98f4d0",
   "metadata": {},
   "outputs": [
    {
     "data": {
      "text/plain": [
       "{'Return': {'x': [0, 10], 'y': [10.0, 9.0]},\n",
       " 'Rew': {'x': [0, 5, 10, 15], 'y': [1.0, 1.0, 0.0, 0.0]}}"
      ]
     },
     "execution_count": 39,
     "metadata": {},
     "output_type": "execute_result"
    }
   ],
   "source": [
    "solver.scalars"
   ]
  },
  {
   "cell_type": "markdown",
   "id": "4c301d5c",
   "metadata": {},
   "source": [
    "# Useful MixIns\n",
    "\n",
    "For ease of implementation, we provide the following base mixins (See details in [shinrl/solvers/base/base_mixin.py](../shinrl/solvers/base/base_mixin.py):\n",
    "\n",
    "* **BaseGymEvalMixIn**: Base mixin for gym.Env evaluation. `explore` function is implemented. Need to implement `eval_act` function.\n",
    "* **BaseGymExploreMixIn**: Base mixin for gym.Env exploration. `evaluate` function is implemented. Need to implement `explore_act` function.\n",
    "* **BaseShinEvalMixIn**: Base mixin for ShinEnv evaluation. `explore` function is implemented. solver.data need to have `EvaluatePolicy` table.\n",
    "* **BaseShinExploreMixIn**: Base mixin for ShinEnv exploration. `evaluate` function is implemented. solver.data need to have `ExplorePolicy` table."
   ]
  },
  {
   "cell_type": "markdown",
   "id": "a60261e4",
   "metadata": {},
   "source": [
    "### Gym Solver Example\n",
    "\n",
    "`BaseGymEvalMixIn` and `BaseGymExploreMixIn` conduct **sampling-based** evaluation and exploration.\n",
    "\n",
    "You need to implement three functions: \n",
    "* `step` \n",
    "* `eval_act`\n",
    "* `explore_act`\n",
    "\n",
    "Here we implement the step function in `GymStepMixIn` and the act functions in `GymActMixIn`:"
   ]
  },
  {
   "cell_type": "code",
   "execution_count": 7,
   "id": "62cb403c",
   "metadata": {},
   "outputs": [],
   "source": [
    "@chex.dataclass\n",
    "class GymConfig(shinrl.SolverConfig):\n",
    "    seed: int = 0\n",
    "    discount: float = 0.99\n",
    "    eval_trials: int = 10\n",
    "    eval_interval: int = 100\n",
    "    add_interval: int = 100\n",
    "    steps_per_epoch: int = 1000\n",
    "    num_samples: int = 10\n",
    "        \n",
    "\n",
    "class GymStepMixIn:\n",
    "    def step(self):\n",
    "        samples = self.explore()\n",
    "        dummy_loss = (samples.rew).mean()\n",
    "        return {\"DummyLoss\": dummy_loss.item()}\n",
    "\n",
    "    \n",
    "class GymActMixIn:\n",
    "    def eval_act(self, key, obs):\n",
    "        new_key = jax.random.split(self.key)\n",
    "        act = self._eval_env.action_space.sample()\n",
    "        log_prob = 0.0\n",
    "        return new_key, act, log_prob\n",
    "\n",
    "    def explore_act(self, key, obs):\n",
    "        new_key = jax.random.split(self.key)\n",
    "        act = self.env.action_space.sample()\n",
    "        log_prob = 0.0\n",
    "        return new_key, act, log_prob\n",
    "\n",
    "\n",
    "class GymSolver(shinrl.BaseSolver):\n",
    "    DefaultConfig = GymConfig\n",
    "    @staticmethod\n",
    "    def make_mixins(env, config):\n",
    "        return [GymStepMixIn, GymActMixIn, shinrl.BaseGymExploreMixIn, shinrl.BaseGymEvalMixIn, GymSolver]"
   ]
  },
  {
   "cell_type": "code",
   "execution_count": 8,
   "id": "fed07bbf",
   "metadata": {
    "scrolled": true
   },
   "outputs": [
    {
     "name": "stderr",
     "output_type": "stream",
     "text": [
      "\u001b[2m2021-12-27T03:56:39.003904Z\u001b[0m \u001b[1mset_config is called.         \u001b[0m \u001b[36mconfig\u001b[0m=\u001b[35m{'seed': 0, 'discount': 0.99, 'eval_trials': 10, 'eval_interval': 10, 'add_interval': 5, 'steps_per_epoch': 20, 'num_samples': 10}\u001b[0m \u001b[36menv_id\u001b[0m=\u001b[35mNone\u001b[0m \u001b[36msolver_id\u001b[0m=\u001b[35mMixedSolver-1\u001b[0m\n",
      "\u001b[2m2021-12-27T03:56:39.008038Z\u001b[0m \u001b[1mset_env is called.            \u001b[0m \u001b[36menv_id\u001b[0m=\u001b[35m0\u001b[0m \u001b[36msolver_id\u001b[0m=\u001b[35mMixedSolver-1\u001b[0m\n",
      "\u001b[2m2021-12-27T03:56:39.015721Z\u001b[0m \u001b[1mSolver is initialized.        \u001b[0m \u001b[36menv_id\u001b[0m=\u001b[35m0\u001b[0m \u001b[36mmethods\u001b[0m=\u001b[35m['BaseSolver.__init__', 'History.add_scalar', 'GymActMixIn.eval_act', 'BaseGymEvalMixIn.evaluate', 'BaseGymExploreMixIn.explore', 'GymActMixIn.explore_act', 'History.init_history', 'BaseGymEvalMixIn.initialize', 'History.load', 'History.recent_summary', 'BaseSolver.run', 'History.save', 'BaseSolver.seed', 'History.set_config', 'BaseSolver.set_env', 'GymStepMixIn.step']\u001b[0m \u001b[36mmixins\u001b[0m=\u001b[35m[<class '__main__.GymStepMixIn'>, <class '__main__.GymActMixIn'>, <class 'shinrl.solvers.base.base_mixin.BaseGymExploreMixIn'>, <class 'shinrl.solvers.base.base_mixin.BaseGymEvalMixIn'>, <class '__main__.GymSolver'>]\u001b[0m \u001b[36msolver_id\u001b[0m=\u001b[35mMixedSolver-1\u001b[0m\n",
      "Epoch 0: 100%|█\n",
      "\u001b[2m2021-12-27T03:56:39.236993Z\u001b[0m \u001b[1mEpoch 1 has ended.            \u001b[0m \u001b[36mdata\u001b[0m=\u001b[35m[]\u001b[0m \u001b[36menv_id\u001b[0m=\u001b[35m0\u001b[0m \u001b[36mepoch_summary\u001b[0m=\u001b[35m{'Return': {'Average': 23.25, 'Max': 26.1, 'Min': 20.4}, 'DummyLoss': {'Average': 1.0, 'Max': 1.0, 'Min': 1.0}}\u001b[0m \u001b[36msolver_id\u001b[0m=\u001b[35mMixedSolver-1\u001b[0m\n"
     ]
    }
   ],
   "source": [
    "env = gym.make(\"CartPole-v0\")\n",
    "config = GymSolver.DefaultConfig(add_interval=5, steps_per_epoch=20, eval_interval=10)\n",
    "mixins = GymSolver.make_mixins(env, config)\n",
    "solver = GymSolver.factory(env, config, mixins)\n",
    "solver.run()"
   ]
  },
  {
   "cell_type": "code",
   "execution_count": 9,
   "id": "4e54b86a",
   "metadata": {
    "scrolled": true
   },
   "outputs": [
    {
     "data": {
      "text/plain": [
       "{'Return': {'x': [0, 10], 'y': [20.4, 26.1]},\n",
       " 'DummyLoss': {'x': [0, 5, 10, 15], 'y': [1.0, 1.0, 1.0, 1.0]}}"
      ]
     },
     "execution_count": 9,
     "metadata": {},
     "output_type": "execute_result"
    }
   ],
   "source": [
    "solver.scalars"
   ]
  },
  {
   "cell_type": "markdown",
   "id": "9b08bd94",
   "metadata": {},
   "source": [
    "### ShinEnv Solver Example\n",
    "\n",
    "`BaseShinEvalMixIn` and `BaseShinExploreMixIn` conduct **oracle** evaluation and exploration.\n",
    "\n",
    "You need to set two arrays to solver.data:\n",
    "\n",
    "* `ExplorePolicy`: dS x dA probability array\n",
    "* `EvaluatePolicy`: dS x dA probability array\n",
    "\n",
    "Here we implement them in `BuildTableMixIn`."
   ]
  },
  {
   "cell_type": "code",
   "execution_count": 10,
   "id": "971f8e0e",
   "metadata": {},
   "outputs": [],
   "source": [
    "@chex.dataclass\n",
    "class ShinConfig(shinrl.SolverConfig):\n",
    "    seed: int = 0\n",
    "    discount: float = 0.99\n",
    "    eval_trials: int = 10\n",
    "    eval_interval: int = 100\n",
    "    add_interval: int = 100\n",
    "    steps_per_epoch: int = 1000\n",
    "    num_samples: int = 10\n",
    "        \n",
    "        \n",
    "class BuildTableMixIn:\n",
    "    def initialize(self, env, config=None) -> None:\n",
    "        # build tables\n",
    "        super().initialize(env, config)\n",
    "        self.data[\"Q\"] = jnp.zeros((self.dS, self.dA))\n",
    "        self.data[\"ExplorePolicy\"] = jnp.ones((self.dS, self.dA)) / self.dA\n",
    "        self.data[\"EvaluatePolicy\"] = jnp.ones((self.dS, self.dA)) / self.dA\n",
    "\n",
    "\n",
    "class ShinStepMixIn:\n",
    "    def step(self):\n",
    "        samples = self.explore()\n",
    "        dummy_loss = (samples.rew).mean()\n",
    "        return {\"DummyLoss\": dummy_loss.item()}\n",
    "\n",
    "    \n",
    "class ShinSolver(shinrl.BaseSolver):\n",
    "    DefaultConfig = ShinConfig\n",
    "    @staticmethod\n",
    "    def make_mixins(env, config):\n",
    "        return [ShinStepMixIn, BuildTableMixIn, shinrl.BaseShinExploreMixIn, shinrl.BaseShinEvalMixIn, ShinSolver]"
   ]
  },
  {
   "cell_type": "code",
   "execution_count": 11,
   "id": "51cbd12d",
   "metadata": {
    "scrolled": true
   },
   "outputs": [
    {
     "name": "stderr",
     "output_type": "stream",
     "text": [
      "\u001b[2m2021-12-27T03:56:41.292676Z\u001b[0m \u001b[1mset_config is called.         \u001b[0m \u001b[36mconfig\u001b[0m=\u001b[35m{'seed': 0, 'discount': 0.99, 'eval_trials': 10, 'eval_interval': 10, 'add_interval': 5, 'steps_per_epoch': 20, 'num_samples': 10}\u001b[0m \u001b[36menv_id\u001b[0m=\u001b[35mNone\u001b[0m \u001b[36msolver_id\u001b[0m=\u001b[35mMixedSolver-2\u001b[0m\n",
      "\u001b[2m2021-12-27T03:56:41.293170Z\u001b[0m \u001b[1mset_env is called.            \u001b[0m \u001b[36menv_id\u001b[0m=\u001b[35m0\u001b[0m \u001b[36msolver_id\u001b[0m=\u001b[35mMixedSolver-2\u001b[0m\n",
      "\u001b[2m2021-12-27T03:56:41.295118Z\u001b[0m \u001b[1mSolver is initialized.        \u001b[0m \u001b[36menv_id\u001b[0m=\u001b[35m0\u001b[0m \u001b[36mmethods\u001b[0m=\u001b[35m['BaseSolver.__init__', 'History.add_scalar', 'BaseShinEvalMixIn.evaluate', 'BaseShinExploreMixIn.explore', 'History.init_history', 'BuildTableMixIn.initialize', 'History.load', 'History.recent_summary', 'BaseSolver.run', 'History.save', 'BaseSolver.seed', 'History.set_config', 'BaseSolver.set_env', 'ShinStepMixIn.step']\u001b[0m \u001b[36mmixins\u001b[0m=\u001b[35m[<class '__main__.ShinStepMixIn'>, <class '__main__.BuildTableMixIn'>, <class 'shinrl.solvers.base.base_mixin.BaseShinExploreMixIn'>, <class 'shinrl.solvers.base.base_mixin.BaseShinEvalMixIn'>, <class '__main__.ShinSolver'>]\u001b[0m \u001b[36msolver_id\u001b[0m=\u001b[35mMixedSolver-2\u001b[0m\n",
      "Epoch 0:   0%| /home/rl-dqn/miniconda3/envs/shinrl-jax/lib/python3.8/site-packages/jax/_src/numpy/lax_numpy.py:6461: UserWarning: Explicitly requested dtype <class 'jax._src.numpy.lax_numpy.int64'> requested in astype is not available, and will be truncated to dtype int32. To enable more dtypes, set the jax_enable_x64 configuration option or the JAX_ENABLE_X64 shell environment variable. See https://github.com/google/jax#current-gotchas for more.\n",
      "  lax._check_user_dtype_supported(dtype, \"astype\")\n",
      "Epoch 0: 100%|█\n",
      "\u001b[2m2021-12-27T03:56:41.865902Z\u001b[0m \u001b[1mEpoch 1 has ended.            \u001b[0m \u001b[36mdata\u001b[0m=\u001b[35m['Q', 'ExplorePolicy', 'EvaluatePolicy']\u001b[0m \u001b[36menv_id\u001b[0m=\u001b[35m0\u001b[0m \u001b[36mepoch_summary\u001b[0m=\u001b[35m{'Return': {'Average': -199.546630859375, 'Max': -199.546630859375, 'Min': -199.546630859375}, 'DummyLoss': {'Average': -1.0, 'Max': -1.0, 'Min': -1.0}}\u001b[0m \u001b[36msolver_id\u001b[0m=\u001b[35mMixedSolver-2\u001b[0m\n"
     ]
    }
   ],
   "source": [
    "env = gym.make(\"ShinMountainCar-v0\")\n",
    "config = ShinSolver.DefaultConfig(add_interval=5, steps_per_epoch=20, eval_interval=10)\n",
    "mixins = ShinSolver.make_mixins(env, config)\n",
    "solver = ShinSolver.factory(env, config, mixins)\n",
    "solver.run()"
   ]
  },
  {
   "cell_type": "code",
   "execution_count": 12,
   "id": "a65ee017",
   "metadata": {},
   "outputs": [
    {
     "data": {
      "text/plain": [
       "{'Return': {'x': [0, 10], 'y': [-199.546630859375, -199.546630859375]},\n",
       " 'DummyLoss': {'x': [0, 5, 10, 15], 'y': [-1.0, -1.0, -1.0, -1.0]}}"
      ]
     },
     "execution_count": 12,
     "metadata": {},
     "output_type": "execute_result"
    }
   ],
   "source": [
    "solver.scalars"
   ]
  },
  {
   "cell_type": "markdown",
   "id": "e4e09216",
   "metadata": {},
   "source": [
    "### Gym & ShinEnv Solver Example\n",
    "\n",
    "A solver can support both gym.Env & ShinEnv by modifing the `make_mixin` function:"
   ]
  },
  {
   "cell_type": "code",
   "execution_count": 13,
   "id": "5d646bbf",
   "metadata": {},
   "outputs": [],
   "source": [
    "@chex.dataclass\n",
    "class GymAndShinConfig(shinrl.SolverConfig):\n",
    "    seed: int = 0\n",
    "    discount: float = 0.99\n",
    "    eval_trials: int = 10\n",
    "    eval_interval: int = 100\n",
    "    add_interval: int = 100\n",
    "    steps_per_epoch: int = 1000\n",
    "    num_samples: int = 10\n",
    "        \n",
    "        \n",
    "class GymAndShinSolver(shinrl.BaseSolver):\n",
    "    DefaultConfig = GymAndShinConfig\n",
    "    @staticmethod\n",
    "    def make_mixins(env, config):\n",
    "        is_shin_env = isinstance(env, shinrl.ShinEnv)\n",
    "        \n",
    "        if is_shin_env:\n",
    "            mixin_list = [ShinStepMixIn, BuildTableMixIn, shinrl.BaseShinExploreMixIn, shinrl.BaseShinEvalMixIn, GymAndShinSolver]\n",
    "        else:\n",
    "            mixin_list = [GymStepMixIn, GymActMixIn, shinrl.BaseGymExploreMixIn, shinrl.BaseGymEvalMixIn, GymAndShinSolver]\n",
    "        \n",
    "        return mixin_list"
   ]
  },
  {
   "cell_type": "code",
   "execution_count": 14,
   "id": "2b915352",
   "metadata": {
    "scrolled": true
   },
   "outputs": [
    {
     "name": "stderr",
     "output_type": "stream",
     "text": [
      "\u001b[2m2021-12-27T03:56:41.880841Z\u001b[0m \u001b[1mset_config is called.         \u001b[0m \u001b[36mconfig\u001b[0m=\u001b[35m{'seed': 0, 'discount': 0.99, 'eval_trials': 10, 'eval_interval': 10, 'add_interval': 5, 'steps_per_epoch': 20, 'num_samples': 10}\u001b[0m \u001b[36menv_id\u001b[0m=\u001b[35mNone\u001b[0m \u001b[36msolver_id\u001b[0m=\u001b[35mMixedSolver-3\u001b[0m\n",
      "\u001b[2m2021-12-27T03:56:41.881617Z\u001b[0m \u001b[1mset_env is called.            \u001b[0m \u001b[36menv_id\u001b[0m=\u001b[35m0\u001b[0m \u001b[36msolver_id\u001b[0m=\u001b[35mMixedSolver-3\u001b[0m\n",
      "\u001b[2m2021-12-27T03:56:41.882815Z\u001b[0m \u001b[1mSolver is initialized.        \u001b[0m \u001b[36menv_id\u001b[0m=\u001b[35m0\u001b[0m \u001b[36mmethods\u001b[0m=\u001b[35m['BaseSolver.__init__', 'History.add_scalar', 'GymActMixIn.eval_act', 'BaseGymEvalMixIn.evaluate', 'BaseGymExploreMixIn.explore', 'GymActMixIn.explore_act', 'History.init_history', 'BaseGymEvalMixIn.initialize', 'History.load', 'History.recent_summary', 'BaseSolver.run', 'History.save', 'BaseSolver.seed', 'History.set_config', 'BaseSolver.set_env', 'GymStepMixIn.step']\u001b[0m \u001b[36mmixins\u001b[0m=\u001b[35m[<class '__main__.GymStepMixIn'>, <class '__main__.GymActMixIn'>, <class 'shinrl.solvers.base.base_mixin.BaseGymExploreMixIn'>, <class 'shinrl.solvers.base.base_mixin.BaseGymEvalMixIn'>, <class '__main__.GymAndShinSolver'>]\u001b[0m \u001b[36msolver_id\u001b[0m=\u001b[35mMixedSolver-3\u001b[0m\n",
      "Epoch 0: 100%|█\n",
      "\u001b[2m2021-12-27T03:56:42.153129Z\u001b[0m \u001b[1mEpoch 1 has ended.            \u001b[0m \u001b[36mdata\u001b[0m=\u001b[35m[]\u001b[0m \u001b[36menv_id\u001b[0m=\u001b[35m0\u001b[0m \u001b[36mepoch_summary\u001b[0m=\u001b[35m{'Return': {'Average': -200.0, 'Max': -200.0, 'Min': -200.0}, 'DummyLoss': {'Average': -1.0, 'Max': -1.0, 'Min': -1.0}}\u001b[0m \u001b[36msolver_id\u001b[0m=\u001b[35mMixedSolver-3\u001b[0m\n"
     ]
    }
   ],
   "source": [
    "# GymEnv\n",
    "env = gym.make(\"MountainCar-v0\")\n",
    "config = GymAndShinSolver.DefaultConfig(add_interval=5, steps_per_epoch=20, eval_interval=10)\n",
    "mixins = GymAndShinSolver.make_mixins(env, config)\n",
    "solver = GymAndShinSolver.factory(env, config, mixins)\n",
    "solver.run()"
   ]
  },
  {
   "cell_type": "code",
   "execution_count": 15,
   "id": "dd81fd93",
   "metadata": {
    "scrolled": true
   },
   "outputs": [
    {
     "name": "stderr",
     "output_type": "stream",
     "text": [
      "\u001b[2m2021-12-27T03:56:42.579567Z\u001b[0m \u001b[1mset_config is called.         \u001b[0m \u001b[36mconfig\u001b[0m=\u001b[35m{'seed': 0, 'discount': 0.99, 'eval_trials': 10, 'eval_interval': 10, 'add_interval': 5, 'steps_per_epoch': 20, 'num_samples': 10}\u001b[0m \u001b[36menv_id\u001b[0m=\u001b[35mNone\u001b[0m \u001b[36msolver_id\u001b[0m=\u001b[35mMixedSolver-4\u001b[0m\n",
      "\u001b[2m2021-12-27T03:56:42.580077Z\u001b[0m \u001b[1mset_env is called.            \u001b[0m \u001b[36menv_id\u001b[0m=\u001b[35m0\u001b[0m \u001b[36msolver_id\u001b[0m=\u001b[35mMixedSolver-4\u001b[0m\n",
      "\u001b[2m2021-12-27T03:56:42.582145Z\u001b[0m \u001b[1mSolver is initialized.        \u001b[0m \u001b[36menv_id\u001b[0m=\u001b[35m0\u001b[0m \u001b[36mmethods\u001b[0m=\u001b[35m['BaseSolver.__init__', 'History.add_scalar', 'BaseShinEvalMixIn.evaluate', 'BaseShinExploreMixIn.explore', 'History.init_history', 'BuildTableMixIn.initialize', 'History.load', 'History.recent_summary', 'BaseSolver.run', 'History.save', 'BaseSolver.seed', 'History.set_config', 'BaseSolver.set_env', 'ShinStepMixIn.step']\u001b[0m \u001b[36mmixins\u001b[0m=\u001b[35m[<class '__main__.ShinStepMixIn'>, <class '__main__.BuildTableMixIn'>, <class 'shinrl.solvers.base.base_mixin.BaseShinExploreMixIn'>, <class 'shinrl.solvers.base.base_mixin.BaseShinEvalMixIn'>, <class '__main__.GymAndShinSolver'>]\u001b[0m \u001b[36msolver_id\u001b[0m=\u001b[35mMixedSolver-4\u001b[0m\n",
      "Epoch 0: 100%|█\n",
      "\u001b[2m2021-12-27T03:56:43.034816Z\u001b[0m \u001b[1mEpoch 1 has ended.            \u001b[0m \u001b[36mdata\u001b[0m=\u001b[35m['Q', 'ExplorePolicy', 'EvaluatePolicy']\u001b[0m \u001b[36menv_id\u001b[0m=\u001b[35m0\u001b[0m \u001b[36mepoch_summary\u001b[0m=\u001b[35m{'Return': {'Average': -199.546630859375, 'Max': -199.546630859375, 'Min': -199.546630859375}, 'DummyLoss': {'Average': -1.0, 'Max': -1.0, 'Min': -1.0}}\u001b[0m \u001b[36msolver_id\u001b[0m=\u001b[35mMixedSolver-4\u001b[0m\n"
     ]
    }
   ],
   "source": [
    "# ShinEnv\n",
    "env = gym.make(\"ShinMountainCar-v0\")\n",
    "config = GymAndShinSolver.DefaultConfig(add_interval=5, steps_per_epoch=20, eval_interval=10)\n",
    "mixins = GymAndShinSolver.make_mixins(env, config)\n",
    "solver = GymAndShinSolver.factory(env, config, mixins)\n",
    "solver.run()"
   ]
  },
  {
   "cell_type": "code",
   "execution_count": null,
   "id": "49cf421c",
   "metadata": {},
   "outputs": [],
   "source": []
  }
 ],
 "metadata": {
  "kernelspec": {
   "display_name": "Python 3 (ipykernel)",
   "language": "python",
   "name": "python3"
  },
  "language_info": {
   "codemirror_mode": {
    "name": "ipython",
    "version": 3
   },
   "file_extension": ".py",
   "mimetype": "text/x-python",
   "name": "python",
   "nbconvert_exporter": "python",
   "pygments_lexer": "ipython3",
   "version": "3.8.11"
  }
 },
 "nbformat": 4,
 "nbformat_minor": 5
}
